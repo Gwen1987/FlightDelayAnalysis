{
 "cells": [
  {
   "cell_type": "code",
   "execution_count": 1,
   "id": "36fde975",
   "metadata": {},
   "outputs": [],
   "source": [
    "import pandas as pd\n",
    "import requests\n",
    "import tarfile\n",
    "from os import path"
   ]
  },
  {
   "cell_type": "code",
   "execution_count": 2,
   "id": "f0966442",
   "metadata": {},
   "outputs": [
    {
     "data": {
      "text/plain": [
       "151681776"
      ]
     },
     "execution_count": 2,
     "metadata": {},
     "output_type": "execute_result"
    }
   ],
   "source": [
    "# Downloading the dataset\n",
    "\n",
    "fname = 'airline_2m.tar.gz'\n",
    "url = 'https://dax-cdn.cdn.appdomain.cloud/dax-airline/1.0.1/' + fname\n",
    "r = requests.get(url)\n",
    "open(fname , 'wb').write(r.content)"
   ]
  },
  {
   "cell_type": "code",
   "execution_count": 3,
   "id": "fdd7e5f1",
   "metadata": {},
   "outputs": [
    {
     "data": {
      "text/plain": [
       "True"
      ]
     },
     "execution_count": 3,
     "metadata": {},
     "output_type": "execute_result"
    }
   ],
   "source": [
    "# Extracting the dataset\n",
    "tar = tarfile.open(fname)\n",
    "tar.extractall()\n",
    "tar.close()\n",
    "\n",
    "# Verifying the file was extracted properly\n",
    "data_path = \"airline_2m.csv\"\n",
    "path.exists(data_path)"
   ]
  },
  {
   "cell_type": "code",
   "execution_count": 6,
   "id": "96c5739c",
   "metadata": {},
   "outputs": [],
   "source": [
    "df1 = pd.read_csv(data_path, encoding = \"ISO-8859-1\", low_memory=False)"
   ]
  },
  {
   "cell_type": "code",
   "execution_count": 9,
   "id": "4933d298",
   "metadata": {},
   "outputs": [],
   "source": [
    "columns_to_drop = [\n",
    "    'DayOfWeek',\n",
    "    'IATA_CODE_Reporting_Airline',\n",
    "    'Tail_Number',\n",
    "    'OriginAirportSeqID',\n",
    "    'OriginCityMarketID',\n",
    "    'Origin',\n",
    "    'OriginState',\n",
    "    'OriginWac',\n",
    "    'OriginStateFips',\n",
    "    'Flight_Number_Reporting_Airline',\n",
    "    'DestAirportSeqID',\n",
    "    'DestCityMarketID',\n",
    "    'Dest',\n",
    "    'DestState',\n",
    "    'DestStateFips',\n",
    "    'DestWac',\n",
    "    'DepDelay',\n",
    "    'DepDel15',\n",
    "    'DepartureDelayGroups',\n",
    "    'TaxiOut',\n",
    "    'WheelsOff',\n",
    "    'WheelsOn',\n",
    "    'TaxiIn',\n",
    "    'ArrDelay',\n",
    "    'ArrDel15',\n",
    "    'ArrivalDelayGroups',\n",
    "    'CRSElapsedTime',\n",
    "    'ActualElapsedTime',\n",
    "    'AirTime',\n",
    "    'Flights',\n",
    "    'FirstDepTime',\n",
    "    'TotalAddGTime',\n",
    "    'LongestAddGTime',\n",
    "    'DivAirportLandings',\n",
    "    'Div1AirportSeqID',\n",
    "    'Div1WheelsOn',\n",
    "    'Div1TotalGTime',\n",
    "    'Div1LongestGTime',\n",
    "    'Div1WheelsOff',\n",
    "    'Div1TailNum',\n",
    "    'Div2Airport',\n",
    "    'Div2AirportID',\n",
    "    'Div2AirportSeqID',\n",
    "    'Div2WheelsOn',\n",
    "    'Div2TotalGTime',\n",
    "    'Div2LongestGTime',\n",
    "    'Div2WheelsOff',\n",
    "    'Div2TailNum',\n",
    "    'Div3Airport',\n",
    "    'Div3AirportID',\n",
    "    'Div3AirportSeqID',\n",
    "    'Div3WheelsOn',\n",
    "    'Div3TotalGTime',\n",
    "    'Div3LongestGTime',\n",
    "    'Div3WheelsOff',\n",
    "    'Div3TailNum',\n",
    "    'Div4Airport',\n",
    "    'Div4AirportID',\n",
    "    'Div4AirportSeqID',\n",
    "    'Div4WheelsOn',\n",
    "    'Div4TotalGTime',\n",
    "    'Div4LongestGTime',\n",
    "    'Div4WheelsOff',\n",
    "    'Div4TailNum',\n",
    "    'Div5Airport',\n",
    "    'Div5AirportID',\n",
    "    'Div5AirportSeqID',\n",
    "    'Div5WheelsOn',\n",
    "    'Div5TotalGTime',\n",
    "    'Div5LongestGTime',\n",
    "    'Div5WheelsOff',\n",
    "    'Div5TailNum'\n",
    "]\n",
    "\n",
    "# Drop the columns\n",
    "df1 = df.drop(columns=columns_to_drop)"
   ]
  },
  {
   "cell_type": "code",
   "execution_count": 12,
   "id": "aeb9ac3a",
   "metadata": {},
   "outputs": [],
   "source": [
    "#keeping only 1999 to 2019\n",
    "df1 = df1[(df1['Year'] >= 1999) & (df1['Year'] <= 2019)]\n",
    "\n",
    "#first preliminary cleanup\n",
    "df1.to_csv('dataset/flight_clean1.zip', index=False, compression={'method': 'zip', 'archive_name': 'flight_clean1.csv'})"
   ]
  },
  {
   "cell_type": "code",
   "execution_count": null,
   "id": "8c365b20",
   "metadata": {},
   "outputs": [],
   "source": []
  }
 ],
 "metadata": {
  "kernelspec": {
   "display_name": "base",
   "language": "python",
   "name": "python3"
  },
  "language_info": {
   "codemirror_mode": {
    "name": "ipython",
    "version": 3
   },
   "file_extension": ".py",
   "mimetype": "text/x-python",
   "name": "python",
   "nbconvert_exporter": "python",
   "pygments_lexer": "ipython3",
   "version": "3.12.3"
  }
 },
 "nbformat": 4,
 "nbformat_minor": 5
}
